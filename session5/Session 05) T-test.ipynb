{
 "cells": [
  {
   "cell_type": "markdown",
   "metadata": {},
   "source": [
    "# T-test"
   ]
  },
  {
   "cell_type": "code",
   "execution_count": 14,
   "metadata": {
    "scrolled": false
   },
   "outputs": [
    {
     "data": {
      "text/html": [
       "<div>\n",
       "<style scoped>\n",
       "    .dataframe tbody tr th:only-of-type {\n",
       "        vertical-align: middle;\n",
       "    }\n",
       "\n",
       "    .dataframe tbody tr th {\n",
       "        vertical-align: top;\n",
       "    }\n",
       "\n",
       "    .dataframe thead th {\n",
       "        text-align: right;\n",
       "    }\n",
       "</style>\n",
       "<table border=\"1\" class=\"dataframe\">\n",
       "  <thead>\n",
       "    <tr style=\"text-align: right;\">\n",
       "      <th></th>\n",
       "      <th>start_date</th>\n",
       "      <th>end_date</th>\n",
       "      <th>start_hour</th>\n",
       "      <th>end_hour</th>\n",
       "      <th>trip_duration</th>\n",
       "      <th>start_station_id</th>\n",
       "      <th>start_station_name</th>\n",
       "      <th>start_station_latitude</th>\n",
       "      <th>start_station_longitude</th>\n",
       "      <th>end_station_id</th>\n",
       "      <th>end_station_name</th>\n",
       "      <th>end_station_latitude</th>\n",
       "      <th>end_station_longitude</th>\n",
       "      <th>bike_id</th>\n",
       "      <th>usertype</th>\n",
       "      <th>birth_year</th>\n",
       "      <th>gender</th>\n",
       "      <th>day_since_register</th>\n",
       "    </tr>\n",
       "  </thead>\n",
       "  <tbody>\n",
       "    <tr>\n",
       "      <th>0</th>\n",
       "      <td>2018-05-01</td>\n",
       "      <td>2018-05-01</td>\n",
       "      <td>4</td>\n",
       "      <td>4</td>\n",
       "      <td>390</td>\n",
       "      <td>3002</td>\n",
       "      <td>South End Ave &amp; Liberty St</td>\n",
       "      <td>40.711512</td>\n",
       "      <td>-74.015756</td>\n",
       "      <td>79</td>\n",
       "      <td>Franklin St &amp; W Broadway</td>\n",
       "      <td>40.719116</td>\n",
       "      <td>-74.006667</td>\n",
       "      <td>21105</td>\n",
       "      <td>Subscriber</td>\n",
       "      <td>1945</td>\n",
       "      <td>male</td>\n",
       "      <td>36</td>\n",
       "    </tr>\n",
       "    <tr>\n",
       "      <th>1</th>\n",
       "      <td>2018-05-01</td>\n",
       "      <td>2018-05-01</td>\n",
       "      <td>1</td>\n",
       "      <td>1</td>\n",
       "      <td>854</td>\n",
       "      <td>3611</td>\n",
       "      <td>Vernon Blvd &amp; 47 Rd</td>\n",
       "      <td>40.744907</td>\n",
       "      <td>-73.953457</td>\n",
       "      <td>3572</td>\n",
       "      <td>34 Ave &amp; 38 St</td>\n",
       "      <td>40.756913</td>\n",
       "      <td>-73.921631</td>\n",
       "      <td>32219</td>\n",
       "      <td>Subscriber</td>\n",
       "      <td>1998</td>\n",
       "      <td>male</td>\n",
       "      <td>29</td>\n",
       "    </tr>\n",
       "    <tr>\n",
       "      <th>2</th>\n",
       "      <td>2018-05-01</td>\n",
       "      <td>2018-05-01</td>\n",
       "      <td>4</td>\n",
       "      <td>4</td>\n",
       "      <td>526</td>\n",
       "      <td>515</td>\n",
       "      <td>W 43 St &amp; 10 Ave</td>\n",
       "      <td>40.760094</td>\n",
       "      <td>-73.994618</td>\n",
       "      <td>388</td>\n",
       "      <td>W 26 St &amp; 10 Ave</td>\n",
       "      <td>40.749718</td>\n",
       "      <td>-74.002950</td>\n",
       "      <td>33433</td>\n",
       "      <td>Subscriber</td>\n",
       "      <td>1954</td>\n",
       "      <td>male</td>\n",
       "      <td>55</td>\n",
       "    </tr>\n",
       "    <tr>\n",
       "      <th>3</th>\n",
       "      <td>2018-05-01</td>\n",
       "      <td>2018-05-01</td>\n",
       "      <td>3</td>\n",
       "      <td>3</td>\n",
       "      <td>885</td>\n",
       "      <td>3641</td>\n",
       "      <td>Broadway &amp; W 25 St</td>\n",
       "      <td>40.742869</td>\n",
       "      <td>-73.989186</td>\n",
       "      <td>336</td>\n",
       "      <td>Sullivan St &amp; Washington Sq</td>\n",
       "      <td>40.730477</td>\n",
       "      <td>-73.999061</td>\n",
       "      <td>32028</td>\n",
       "      <td>Subscriber</td>\n",
       "      <td>1963</td>\n",
       "      <td>male</td>\n",
       "      <td>32</td>\n",
       "    </tr>\n",
       "    <tr>\n",
       "      <th>4</th>\n",
       "      <td>2018-05-01</td>\n",
       "      <td>2018-05-01</td>\n",
       "      <td>1</td>\n",
       "      <td>1</td>\n",
       "      <td>324</td>\n",
       "      <td>3440</td>\n",
       "      <td>Fulton St &amp; Adams St</td>\n",
       "      <td>40.692418</td>\n",
       "      <td>-73.989495</td>\n",
       "      <td>3308</td>\n",
       "      <td>Kane St &amp; Clinton St</td>\n",
       "      <td>40.686176</td>\n",
       "      <td>-73.996453</td>\n",
       "      <td>26425</td>\n",
       "      <td>Subscriber</td>\n",
       "      <td>1965</td>\n",
       "      <td>male</td>\n",
       "      <td>34</td>\n",
       "    </tr>\n",
       "    <tr>\n",
       "      <th>...</th>\n",
       "      <td>...</td>\n",
       "      <td>...</td>\n",
       "      <td>...</td>\n",
       "      <td>...</td>\n",
       "      <td>...</td>\n",
       "      <td>...</td>\n",
       "      <td>...</td>\n",
       "      <td>...</td>\n",
       "      <td>...</td>\n",
       "      <td>...</td>\n",
       "      <td>...</td>\n",
       "      <td>...</td>\n",
       "      <td>...</td>\n",
       "      <td>...</td>\n",
       "      <td>...</td>\n",
       "      <td>...</td>\n",
       "      <td>...</td>\n",
       "      <td>...</td>\n",
       "    </tr>\n",
       "    <tr>\n",
       "      <th>72030</th>\n",
       "      <td>2018-05-01</td>\n",
       "      <td>2018-05-01</td>\n",
       "      <td>23</td>\n",
       "      <td>23</td>\n",
       "      <td>207</td>\n",
       "      <td>3452</td>\n",
       "      <td>Bayard St &amp; Leonard St</td>\n",
       "      <td>40.719156</td>\n",
       "      <td>-73.948854</td>\n",
       "      <td>3107</td>\n",
       "      <td>Bedford Ave &amp; Nassau Ave</td>\n",
       "      <td>40.723117</td>\n",
       "      <td>-73.952123</td>\n",
       "      <td>16883</td>\n",
       "      <td>Subscriber</td>\n",
       "      <td>1994</td>\n",
       "      <td>female</td>\n",
       "      <td>12</td>\n",
       "    </tr>\n",
       "    <tr>\n",
       "      <th>72031</th>\n",
       "      <td>2018-05-01</td>\n",
       "      <td>2018-05-01</td>\n",
       "      <td>23</td>\n",
       "      <td>23</td>\n",
       "      <td>356</td>\n",
       "      <td>151</td>\n",
       "      <td>Cleveland Pl &amp; Spring St</td>\n",
       "      <td>40.722104</td>\n",
       "      <td>-73.997249</td>\n",
       "      <td>319</td>\n",
       "      <td>Fulton St &amp; Broadway</td>\n",
       "      <td>40.711066</td>\n",
       "      <td>-74.009447</td>\n",
       "      <td>17406</td>\n",
       "      <td>Subscriber</td>\n",
       "      <td>1994</td>\n",
       "      <td>male</td>\n",
       "      <td>21</td>\n",
       "    </tr>\n",
       "    <tr>\n",
       "      <th>72032</th>\n",
       "      <td>2018-05-01</td>\n",
       "      <td>2018-05-01</td>\n",
       "      <td>22</td>\n",
       "      <td>23</td>\n",
       "      <td>516</td>\n",
       "      <td>526</td>\n",
       "      <td>E 33 St &amp; 5 Ave</td>\n",
       "      <td>40.747659</td>\n",
       "      <td>-73.984907</td>\n",
       "      <td>435</td>\n",
       "      <td>W 21 St &amp; 6 Ave</td>\n",
       "      <td>40.741740</td>\n",
       "      <td>-73.994156</td>\n",
       "      <td>29964</td>\n",
       "      <td>Subscriber</td>\n",
       "      <td>1975</td>\n",
       "      <td>male</td>\n",
       "      <td>37</td>\n",
       "    </tr>\n",
       "    <tr>\n",
       "      <th>72033</th>\n",
       "      <td>2018-05-01</td>\n",
       "      <td>2018-05-01</td>\n",
       "      <td>22</td>\n",
       "      <td>23</td>\n",
       "      <td>427</td>\n",
       "      <td>379</td>\n",
       "      <td>W 31 St &amp; 7 Ave</td>\n",
       "      <td>40.749156</td>\n",
       "      <td>-73.991600</td>\n",
       "      <td>477</td>\n",
       "      <td>W 41 St &amp; 8 Ave</td>\n",
       "      <td>40.756405</td>\n",
       "      <td>-73.990026</td>\n",
       "      <td>20511</td>\n",
       "      <td>Subscriber</td>\n",
       "      <td>1972</td>\n",
       "      <td>male</td>\n",
       "      <td>14</td>\n",
       "    </tr>\n",
       "    <tr>\n",
       "      <th>72034</th>\n",
       "      <td>2018-05-01</td>\n",
       "      <td>2018-05-01</td>\n",
       "      <td>23</td>\n",
       "      <td>23</td>\n",
       "      <td>417</td>\n",
       "      <td>445</td>\n",
       "      <td>E 10 St &amp; Avenue A</td>\n",
       "      <td>40.727408</td>\n",
       "      <td>-73.981420</td>\n",
       "      <td>285</td>\n",
       "      <td>Broadway &amp; E 14 St</td>\n",
       "      <td>40.734546</td>\n",
       "      <td>-73.990741</td>\n",
       "      <td>17772</td>\n",
       "      <td>Subscriber</td>\n",
       "      <td>1993</td>\n",
       "      <td>male</td>\n",
       "      <td>11</td>\n",
       "    </tr>\n",
       "  </tbody>\n",
       "</table>\n",
       "<p>72035 rows × 18 columns</p>\n",
       "</div>"
      ],
      "text/plain": [
       "       start_date    end_date  start_hour  end_hour  trip_duration  \\\n",
       "0      2018-05-01  2018-05-01           4         4            390   \n",
       "1      2018-05-01  2018-05-01           1         1            854   \n",
       "2      2018-05-01  2018-05-01           4         4            526   \n",
       "3      2018-05-01  2018-05-01           3         3            885   \n",
       "4      2018-05-01  2018-05-01           1         1            324   \n",
       "...           ...         ...         ...       ...            ...   \n",
       "72030  2018-05-01  2018-05-01          23        23            207   \n",
       "72031  2018-05-01  2018-05-01          23        23            356   \n",
       "72032  2018-05-01  2018-05-01          22        23            516   \n",
       "72033  2018-05-01  2018-05-01          22        23            427   \n",
       "72034  2018-05-01  2018-05-01          23        23            417   \n",
       "\n",
       "       start_station_id          start_station_name  start_station_latitude  \\\n",
       "0                  3002  South End Ave & Liberty St               40.711512   \n",
       "1                  3611         Vernon Blvd & 47 Rd               40.744907   \n",
       "2                   515            W 43 St & 10 Ave               40.760094   \n",
       "3                  3641          Broadway & W 25 St               40.742869   \n",
       "4                  3440        Fulton St & Adams St               40.692418   \n",
       "...                 ...                         ...                     ...   \n",
       "72030              3452      Bayard St & Leonard St               40.719156   \n",
       "72031               151    Cleveland Pl & Spring St               40.722104   \n",
       "72032               526             E 33 St & 5 Ave               40.747659   \n",
       "72033               379             W 31 St & 7 Ave               40.749156   \n",
       "72034               445          E 10 St & Avenue A               40.727408   \n",
       "\n",
       "       start_station_longitude  end_station_id             end_station_name  \\\n",
       "0                   -74.015756              79     Franklin St & W Broadway   \n",
       "1                   -73.953457            3572               34 Ave & 38 St   \n",
       "2                   -73.994618             388             W 26 St & 10 Ave   \n",
       "3                   -73.989186             336  Sullivan St & Washington Sq   \n",
       "4                   -73.989495            3308         Kane St & Clinton St   \n",
       "...                        ...             ...                          ...   \n",
       "72030               -73.948854            3107     Bedford Ave & Nassau Ave   \n",
       "72031               -73.997249             319         Fulton St & Broadway   \n",
       "72032               -73.984907             435              W 21 St & 6 Ave   \n",
       "72033               -73.991600             477              W 41 St & 8 Ave   \n",
       "72034               -73.981420             285           Broadway & E 14 St   \n",
       "\n",
       "       end_station_latitude  end_station_longitude  bike_id    usertype  \\\n",
       "0                 40.719116             -74.006667    21105  Subscriber   \n",
       "1                 40.756913             -73.921631    32219  Subscriber   \n",
       "2                 40.749718             -74.002950    33433  Subscriber   \n",
       "3                 40.730477             -73.999061    32028  Subscriber   \n",
       "4                 40.686176             -73.996453    26425  Subscriber   \n",
       "...                     ...                    ...      ...         ...   \n",
       "72030             40.723117             -73.952123    16883  Subscriber   \n",
       "72031             40.711066             -74.009447    17406  Subscriber   \n",
       "72032             40.741740             -73.994156    29964  Subscriber   \n",
       "72033             40.756405             -73.990026    20511  Subscriber   \n",
       "72034             40.734546             -73.990741    17772  Subscriber   \n",
       "\n",
       "       birth_year  gender  day_since_register  \n",
       "0            1945    male                  36  \n",
       "1            1998    male                  29  \n",
       "2            1954    male                  55  \n",
       "3            1963    male                  32  \n",
       "4            1965    male                  34  \n",
       "...           ...     ...                 ...  \n",
       "72030        1994  female                  12  \n",
       "72031        1994    male                  21  \n",
       "72032        1975    male                  37  \n",
       "72033        1972    male                  14  \n",
       "72034        1993    male                  11  \n",
       "\n",
       "[72035 rows x 18 columns]"
      ]
     },
     "execution_count": 14,
     "metadata": {},
     "output_type": "execute_result"
    }
   ],
   "source": [
    "import pandas as pd\n",
    "from scipy import stats # 통계 모듈 불러오기\n",
    "import numpy as np\n",
    "import matplotlib.pyplot as plt #시각화 패키지\n",
    "import seaborn as sns \n",
    "\n",
    "\n",
    "df = pd.read_csv(\"nyc_citibike.csv\")\n",
    "df"
   ]
  },
  {
   "cell_type": "code",
   "execution_count": 15,
   "metadata": {},
   "outputs": [],
   "source": [
    "import platform                \n",
    "\n",
    "from matplotlib import font_manager, rc\n",
    "plt.rcParams['axes.unicode_minus']= False\n",
    "\n",
    "if platform.system() == 'Darwin': #맥os 사용자의 경우\n",
    "    plt.style.use('seaborn-darkgrid') \n",
    "    rc('font', family = 'AppleGothic')\n",
    "    \n",
    "elif platform.system() == 'Windows':#윈도우 사용자의 경우\n",
    "    path = 'c:/Windows/Fonts/malgun.ttf'\n",
    "    font_name = font_manager.FontProperties(fname=path).get_name()\n",
    "    plt.style.use('seaborn-darkgrid') # https://python-graph-gallery.com/199-matplotlib-style-sheets/\n",
    "    rc('font', family=font_name)"
   ]
  },
  {
   "cell_type": "markdown",
   "metadata": {},
   "source": [
    "# 단일 표본 T-test \n",
    "nyc_citibike.csv 데이터의 trip_duration 칼럼에서<br/>\n",
    "전체 데이터를 모집단으로 여기고, 40개의 표본을 추출해 모평균에 대한 단일 표본 T-test 를 진행해보자<br/>\n"
   ]
  },
  {
   "cell_type": "markdown",
   "metadata": {},
   "source": [
    "#### 가설세우기 H0: $\\mu$ = $\\mu$0 ,  H0: $\\mu$ ≠ $\\mu$0"
   ]
  },
  {
   "cell_type": "code",
   "execution_count": 16,
   "metadata": {},
   "outputs": [
    {
     "name": "stdout",
     "output_type": "stream",
     "text": [
      "Skewness: 116.002624\n",
      "Kurtosis: 15913.196644\n"
     ]
    },
    {
     "data": {
      "image/png": "[encoded data removed]",
      "text/plain": [
       "<Figure size 720x360 with 1 Axes>"
      ]
     },
     "metadata": {},
     "output_type": "display_data"
    }
   ],
   "source": [
    "#trip_duration의 분포 데이터\n",
    "td=df.trip_duration #trip_duration 데이터만 td라고 저장하기\n",
    "\n",
    "plt.figure(figsize=(10,5))\n",
    "kdep=sns.kdeplot(td) \n",
    "kdep.set_xlabel(\"바이크 주행 시간(분)\")\n",
    "kdep.set_ylabel(\"비율\")\n",
    "print(\"Skewness: %f\" % td.skew()) #Skewness: 왜도, 데이터의 비대칭성 정도를 나타냄. 0에 가까울 수록 정규분포와 비슷\n",
    "print(\"Kurtosis: %f\" % td.kurt()) #Kurtosis: 첨도, 데이터 분포의 뽀족한 정도를 나타냄. 0에 가까울 수록 정규 분포와 비슷\n",
    "plt.show() "
   ]
  },
  {
   "cell_type": "markdown",
   "metadata": {},
   "source": [
    "과하게 왼쪽으로 치우쳐져 있으니, 전체 분포에 비해 너무 큰 값들이 있다. 이 값들을 outlier로 제거해 주자<br/>\n",
    "#### 또한, 이렇게 과하게 크거나 작은 값들이 있는 분포는 평균이 이 소수의 값들에 의해 좌지우지 되므로, 평균 비교가 의미가 없다"
   ]
  },
  {
   "cell_type": "code",
   "execution_count": 17,
   "metadata": {
    "scrolled": false
   },
   "outputs": [
    {
     "name": "stdout",
     "output_type": "stream",
     "text": [
      "Skewness: 0.863209\n",
      "Kurtosis: -0.108253\n"
     ]
    },
    {
     "data": {
      "image/png": "[encoded data removed]",
      "text/plain": [
       "<Figure size 720x360 with 1 Axes>"
      ]
     },
     "metadata": {},
     "output_type": "display_data"
    }
   ],
   "source": [
    "td_cut=td[td<td.quantile(0.95)]#td값 중 상위 5% 빼주기\n",
    "plt.figure(figsize=(10,5))\n",
    "kdep=sns.kdeplot(td_cut) \n",
    "kdep.set_xlabel(\"바이크 주행 시간(분)\")\n",
    "kdep.set_ylabel(\"비율\")\n",
    "print(\"Skewness: %f\" % td_cut.skew())\n",
    "print(\"Kurtosis: %f\" % td_cut.kurt())\n",
    "plt.show() "
   ]
  },
  {
   "cell_type": "markdown",
   "metadata": {},
   "source": [
    "첨도와 왜도가 많이 줄어들었다. 정규분포와 동일하지는 않지만 정규분포에 비슷할 수록 크기가 큰 표본에 대해 정규성을 보장하는 정도가 강해진다"
   ]
  },
  {
   "cell_type": "code",
   "execution_count": 18,
   "metadata": {},
   "outputs": [
    {
     "name": "stdout",
     "output_type": "stream",
     "text": [
      "평균 : 786.3930612185248 표준 편차 : 509.4961402212798\n"
     ]
    }
   ],
   "source": [
    "# trip_duration의 평균, 표준편차\n",
    "\n",
    "avg = td_cut.mean()\n",
    "std = td_cut.std()\n",
    "print('평균 :',avg,'표준 편차 :',std)"
   ]
  },
  {
   "cell_type": "markdown",
   "metadata": {},
   "source": [
    "### H0: $\\mu$ = 786 "
   ]
  },
  {
   "cell_type": "code",
   "execution_count": 19,
   "metadata": {},
   "outputs": [],
   "source": [
    "# 랜덤하게 40개의 난수를 추출\n",
    "\n",
    "np.random.seed(1)\n",
    "rand_40 = np.random.choice(td_cut, 40) #랜덤 추출"
   ]
  },
  {
   "cell_type": "code",
   "execution_count": 20,
   "metadata": {
    "scrolled": true
   },
   "outputs": [
    {
     "name": "stdout",
     "output_type": "stream",
     "text": [
      "T-statistic : 0.045  p-value : 0.964\n"
     ]
    }
   ],
   "source": [
    "#단일 표본 t-test : 정말 평균이 786일까?\n",
    "#Ho: 평균 = 786\n",
    "#H1: 평균 != 786\n",
    "tTestResult= stats.ttest_1samp(rand_40, 786) #stats.ttest_1samp -> 단일 표본 ttest\n",
    "print(\"T-statistic : %.3f  p-value : %.3f\" % tTestResult)"
   ]
  },
  {
   "cell_type": "markdown",
   "metadata": {},
   "source": [
    "#### p-value 가 0.05보다 월등히 크므로 H0 를 기각할 수 없다. 즉, 모평균은 786이다. "
   ]
  },
  {
   "cell_type": "code",
   "execution_count": 21,
   "metadata": {},
   "outputs": [
    {
     "data": {
      "text/plain": [
       "Ttest_1sampResult(statistic=0.045201914863605676, pvalue=0.964177029201091)"
      ]
     },
     "execution_count": 21,
     "metadata": {},
     "output_type": "execute_result"
    }
   ],
   "source": [
    "#stats.ttest_1samp(sample,value)를 하면 다음과 같이 (검정 통계량, p-value)의 tuple 자료가 만들어짐. \n",
    "tTestResult"
   ]
  },
  {
   "cell_type": "markdown",
   "metadata": {},
   "source": [
    "### 단일 표본 t-test의 경우 정규성을 체크 해 줘야 하지만 표본의 크기가 40으로 충분히 크므로 생략\n",
    "(중심극한정리)"
   ]
  },
  {
   "cell_type": "markdown",
   "metadata": {},
   "source": [
    "##  표본의 크기가 작은 경우 (n=15)"
   ]
  },
  {
   "cell_type": "code",
   "execution_count": 22,
   "metadata": {},
   "outputs": [],
   "source": [
    "# 랜덤하게 15개의 난수를 추출\n",
    "\n",
    "np.random.seed(1)\n",
    "rand_15 = np.random.choice(td_cut, 15) #랜덤 추출"
   ]
  },
  {
   "cell_type": "code",
   "execution_count": 23,
   "metadata": {},
   "outputs": [
    {
     "data": {
      "image/png": "[encoded data removed]",
      "text/plain": [
       "<Figure size 360x360 with 1 Axes>"
      ]
     },
     "metadata": {},
     "output_type": "display_data"
    }
   ],
   "source": [
    "#QQ-plot: 정규성을 만족시키는지 보기 위한 그래프로 빨간 선에 근접하게 점이 분포 될 수록 정규성을 만족\n",
    "from scipy.stats import probplot\n",
    "plt.figure(figsize=(5,5))\n",
    "probplot(rand_15, plot=plt) # qqplot을 그려주는 함수\n",
    "plt.show()"
   ]
  },
  {
   "cell_type": "code",
   "execution_count": 24,
   "metadata": {},
   "outputs": [
    {
     "name": "stdout",
     "output_type": "stream",
     "text": [
      "정규성 검정의 P-value는  0.11000926792621613\n"
     ]
    }
   ],
   "source": [
    "#정규성 검정 : shapiro test\n",
    "#H0: 정규성을 만족한다.\n",
    "#H1: 정규성을 만족하지 않는다.\n",
    "from scipy import stats\n",
    "print('정규성 검정의 P-value는 ' , stats.shapiro(rand_15)[1])"
   ]
  },
  {
   "cell_type": "code",
   "execution_count": 25,
   "metadata": {
    "scrolled": true
   },
   "outputs": [
    {
     "data": {
      "text/plain": [
       "ShapiroResult(statistic=0.9041135311126709, pvalue=0.11000926792621613)"
      ]
     },
     "execution_count": 25,
     "metadata": {},
     "output_type": "execute_result"
    }
   ],
   "source": [
    "#이 값도 (검정통계량, p-value) 순서라서 [1]로 p-value 호출\n",
    "stats.shapiro(rand_15)"
   ]
  },
  {
   "cell_type": "markdown",
   "metadata": {},
   "source": [
    "P-value가 0.05보다 크므로, 귀무가설을 기각할 수 없고, 정규성을 만족."
   ]
  },
  {
   "cell_type": "markdown",
   "metadata": {},
   "source": [
    "# 독립 표본 T-test\n",
    "전체 데이터를 모집단으로 여기고,독립 표본 T-test 를 진행해보자.  \n",
    "출생 년도에 따라 사용자의 자전거 사용 시간(trip_duration)의 평균을 비교하자 \n",
    "\n",
    "->birth_year에서 2 그룹을 정하고 40명 씩 뽑아 표본을 만들어 각 trip_duration의 평균을 비교해보자!"
   ]
  },
  {
   "cell_type": "code",
   "execution_count": 26,
   "metadata": {},
   "outputs": [
    {
     "data": {
      "text/plain": [
       "1969    7980\n",
       "1988    2661\n",
       "1990    2621\n",
       "1989    2600\n",
       "1991    2564\n",
       "        ... \n",
       "1894       1\n",
       "1895       1\n",
       "1938       1\n",
       "1918       1\n",
       "1885       1\n",
       "Name: birth_year, Length: 84, dtype: int64"
      ]
     },
     "execution_count": 26,
     "metadata": {},
     "output_type": "execute_result"
    }
   ],
   "source": [
    "data.birth_year.value_counts()\n",
    "#1988년 생과 1990년생 비교!"
   ]
  },
  {
   "cell_type": "code",
   "execution_count": 27,
   "metadata": {},
   "outputs": [],
   "source": [
    "td_88=df[df.birth_year==1988].trip_duration\n",
    "td_90=df[df.birth_year==1990].trip_duration"
   ]
  },
  {
   "cell_type": "code",
   "execution_count": 28,
   "metadata": {},
   "outputs": [],
   "source": [
    "#단일 표본에서와 마찬가지로 상위 5% 제거\n",
    "td_88_cut=td_88[td_88<td_88.quantile(0.95)]\n",
    "td_90_cut=td_90[td_90<td_90.quantile(0.95)]"
   ]
  },
  {
   "cell_type": "code",
   "execution_count": 29,
   "metadata": {},
   "outputs": [
    {
     "data": {
      "image/png": "[encoded data removed]",
      "text/plain": [
       "<Figure size 720x360 with 1 Axes>"
      ]
     },
     "metadata": {},
     "output_type": "display_data"
    }
   ],
   "source": [
    "plt.figure(figsize=(10,5))\n",
    "kdep=sns.kdeplot(td_88_cut) \n",
    "sns.kdeplot(td_90_cut)\n",
    "kdep.set_xlabel(\"trip_duration\")\n",
    "kdep.set_ylabel(\"비율\")\n",
    "plt.legend(['88','90'])# 그래프마다 이름을 붙여줌!\n",
    "plt.show() "
   ]
  },
  {
   "cell_type": "markdown",
   "metadata": {},
   "source": [
    "### H0: $\\mu_x=\\mu_y$"
   ]
  },
  {
   "cell_type": "code",
   "execution_count": 30,
   "metadata": {},
   "outputs": [],
   "source": [
    "#독립 표본 t-검정\n",
    "#각각 40개씩 추출\n",
    "np.random.seed(2)\n",
    "\n",
    "group1 = np.random.choice(td_88_cut, 40) \n",
    "group2 = np.random.choice(td_90_cut, 40) "
   ]
  },
  {
   "cell_type": "markdown",
   "metadata": {},
   "source": [
    "두 표본 모두 크기가 40으로 충분히 크므로, 정규성 체크는 생략<br/>\n",
    "서로 다른 모집단에서 랜덤으로 뽑았으므로 독립성 체크도 생략"
   ]
  },
  {
   "cell_type": "markdown",
   "metadata": {},
   "source": [
    "### 독립 표본 T-test는 분산이 같냐 다르냐가 중요!!!!!"
   ]
  },
  {
   "cell_type": "markdown",
   "metadata": {},
   "source": [
    "### 등분산 검정"
   ]
  },
  {
   "cell_type": "code",
   "execution_count": 31,
   "metadata": {},
   "outputs": [
    {
     "name": "stdout",
     "output_type": "stream",
     "text": [
      "등분산 검정 P-value= 0.9749603579100367\n"
     ]
    }
   ],
   "source": [
    "#등분산 체크는 levene test로\n",
    "#HO: 두 모집단의 분산이 같다.\n",
    "#H1: 두 모집단의 분산이 다르다.\n",
    "from scipy.stats import levene\n",
    "print('등분산 검정 P-value=',levene(group1,group2)[1])"
   ]
  },
  {
   "cell_type": "markdown",
   "metadata": {},
   "source": [
    "P-value가 0.05보다 아주 크므로, 귀무가설 기각 불가. 따라서 분산이 같다는 가정 하에 검정"
   ]
  },
  {
   "cell_type": "code",
   "execution_count": 32,
   "metadata": {},
   "outputs": [
    {
     "name": "stdout",
     "output_type": "stream",
     "text": [
      "두 집단의 분산이 같을 때 t-statistic: 0.237 p-value : 0.813.\n",
      "두 집단의 분산이 다를 때 t-statistic: 0.237 p-value : 0.813.\n"
     ]
    }
   ],
   "source": [
    "#두 집단의 분산이 같을 때의 결과\n",
    "tTestResult= stats.ttest_ind(group1, group2)\n",
    " \n",
    "#(혹시 분산이 다를 경우)두 집단의 분산이 다를 때의 결과 (equal_var=False를 붙여줌)\n",
    "tTestResultDiffVar= stats.ttest_ind(group1, group2, equal_var=False)\n",
    " \n",
    "print(\"두 집단의 분산이 같을 때 t-statistic: %.3f p-value : %.3f.\" % tTestResult)\n",
    "print(\"두 집단의 분산이 다를 때 t-statistic: %.3f p-value : %.3f.\"  % tTestResultDiffVar)"
   ]
  },
  {
   "cell_type": "markdown",
   "metadata": {},
   "source": [
    "\n",
    "#### p-value 가 0.05 보다 월등히 크기 떄문에 귀무가설을 기각할 수 없다. 즉, 88년생과 90년생의 이용시간 평균이 같다."
   ]
  },
  {
   "cell_type": "markdown",
   "metadata": {},
   "source": [
    "# 대응 표본 T-test\n",
    "\n",
    "nyc citibike 회사에서 자전거 대여 요금 할인 이벤트를 진행했다고 한다.  \n",
    "이벤트 이후 사람들의 대여시간이 달라졌는지 알아보자.  \n",
    "(이벤트 외의 다른 모든 조건은 동일하다고 가정한다.)"
   ]
  },
  {
   "cell_type": "code",
   "execution_count": 33,
   "metadata": {},
   "outputs": [
    {
     "data": {
      "text/html": [
       "<div>\n",
       "<style scoped>\n",
       "    .dataframe tbody tr th:only-of-type {\n",
       "        vertical-align: middle;\n",
       "    }\n",
       "\n",
       "    .dataframe tbody tr th {\n",
       "        vertical-align: top;\n",
       "    }\n",
       "\n",
       "    .dataframe thead th {\n",
       "        text-align: right;\n",
       "    }\n",
       "</style>\n",
       "<table border=\"1\" class=\"dataframe\">\n",
       "  <thead>\n",
       "    <tr style=\"text-align: right;\">\n",
       "      <th></th>\n",
       "      <th>id</th>\n",
       "      <th>trip_duration_before</th>\n",
       "      <th>trip_duration_after</th>\n",
       "    </tr>\n",
       "  </thead>\n",
       "  <tbody>\n",
       "    <tr>\n",
       "      <th>0</th>\n",
       "      <td>1</td>\n",
       "      <td>301.728750</td>\n",
       "      <td>405.901958</td>\n",
       "    </tr>\n",
       "    <tr>\n",
       "      <th>1</th>\n",
       "      <td>2</td>\n",
       "      <td>304.366383</td>\n",
       "      <td>458.114289</td>\n",
       "    </tr>\n",
       "    <tr>\n",
       "      <th>2</th>\n",
       "      <td>3</td>\n",
       "      <td>373.389837</td>\n",
       "      <td>533.215894</td>\n",
       "    </tr>\n",
       "    <tr>\n",
       "      <th>3</th>\n",
       "      <td>4</td>\n",
       "      <td>391.290559</td>\n",
       "      <td>576.666999</td>\n",
       "    </tr>\n",
       "    <tr>\n",
       "      <th>4</th>\n",
       "      <td>5</td>\n",
       "      <td>396.624250</td>\n",
       "      <td>585.691675</td>\n",
       "    </tr>\n",
       "  </tbody>\n",
       "</table>\n",
       "</div>"
      ],
      "text/plain": [
       "   id  trip_duration_before  trip_duration_after\n",
       "0   1            301.728750           405.901958\n",
       "1   2            304.366383           458.114289\n",
       "2   3            373.389837           533.215894\n",
       "3   4            391.290559           576.666999\n",
       "4   5            396.624250           585.691675"
      ]
     },
     "execution_count": 33,
     "metadata": {},
     "output_type": "execute_result"
    }
   ],
   "source": [
    "data = pd.read_csv('event_effect.csv')\n",
    "data.head()"
   ]
  },
  {
   "cell_type": "code",
   "execution_count": 34,
   "metadata": {
    "scrolled": true
   },
   "outputs": [
    {
     "data": {
      "text/plain": [
       "500"
      ]
     },
     "execution_count": 34,
     "metadata": {},
     "output_type": "execute_result"
    }
   ],
   "source": [
    "len(data)"
   ]
  },
  {
   "cell_type": "markdown",
   "metadata": {},
   "source": [
    "표본이 충분히 크므로, 정규성 체크는 생략"
   ]
  },
  {
   "cell_type": "markdown",
   "metadata": {},
   "source": [
    "### H0: $\\mu_d=0$, H1: $\\mu_d ≠ 0$"
   ]
  },
  {
   "cell_type": "code",
   "execution_count": 36,
   "metadata": {},
   "outputs": [
    {
     "data": {
      "text/plain": [
       "Ttest_relResult(statistic=-84.87014559504613, pvalue=1.0876472817241415e-298)"
      ]
     },
     "execution_count": 36,
     "metadata": {},
     "output_type": "execute_result"
    }
   ],
   "source": [
    "#H0:  𝜇𝑑=0\n",
    "#H1: 𝜇𝑑!=0\n",
    "stats.ttest_rel(data['trip_duration_before'],data['trip_duration_after'])"
   ]
  },
  {
   "cell_type": "markdown",
   "metadata": {},
   "source": [
    "#### p-value 가 0.05보다 작기 떄문에 귀무가설을 기각한다. 즉, 할인 이벤트 전후로 대여 시간에 차이가 있다."
   ]
  },
  {
   "cell_type": "markdown",
   "metadata": {},
   "source": [
    "# 단측 검정"
   ]
  },
  {
   "cell_type": "markdown",
   "metadata": {},
   "source": [
    "### H0: $\\mu_d=0$, H1: $\\mu_d<0$"
   ]
  },
  {
   "cell_type": "code",
   "execution_count": 37,
   "metadata": {},
   "outputs": [],
   "source": [
    "stats.ttest_rel?\n",
    "#default가 양측검정. 단측검정은 다른 코드"
   ]
  },
  {
   "cell_type": "code",
   "execution_count": 39,
   "metadata": {},
   "outputs": [
    {
     "name": "stdout",
     "output_type": "stream",
     "text": [
      "양측 검정의  t-statistic: -84.870 p-value : 0.000000.\n",
      "귀무가설 기각!: 이벤트가 효과가 있었어!!!\n"
     ]
    }
   ],
   "source": [
    "#H0:  𝜇𝑑=0\n",
    "#H1: 𝜇𝑑<0 (이벤트 후에 대여시간이 증가 했다!)\n",
    "test_result=stats.ttest_rel(data['trip_duration_before'],data['trip_duration_after'])\n",
    "\n",
    "print(\"양측 검정의  t-statistic: %.3f p-value : %f.\"  % test_result)\n",
    "\n",
    "if (test_result[0]<0) & (test_result[1]/2<0.05):  #H1이 𝜇𝑑<0 이니까 검정통계량이 0보다 크면 p-value는 0.5보다 커서 자동 기각 불가!\n",
    "    print('귀무가설 기각!: 이벤트가 효과가 있었어!!!')\n",
    "else:\n",
    "    print('귀무가설 기각 불가!: 이벤트는 돈낭비였어ㅠㅠ')"
   ]
  },
  {
   "cell_type": "code",
   "execution_count": null,
   "metadata": {},
   "outputs": [],
   "source": []
  }
 ],
 "metadata": {
  "kernelspec": {
   "display_name": "Python 3",
   "language": "python",
   "name": "python3"
  },
  "language_info": {
   "codemirror_mode": {
    "name": "ipython",
    "version": 3
   },
   "file_extension": ".py",
   "mimetype": "text/x-python",
   "name": "python",
   "nbconvert_exporter": "python",
   "pygments_lexer": "ipython3",
   "version": "3.8.3"
  }
 },
 "nbformat": 4,
 "nbformat_minor": 2
}
